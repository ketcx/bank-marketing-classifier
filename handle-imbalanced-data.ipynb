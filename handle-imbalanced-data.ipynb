{
 "cells": [
  {
   "cell_type": "code",
   "execution_count": null,
   "metadata": {},
   "outputs": [],
   "source": [
    "!pip install scikit-learn==0.23.1 --force-reinstall \n",
    "!pip install imbalanced-learn"
   ]
  },
  {
   "cell_type": "code",
   "execution_count": null,
   "metadata": {},
   "outputs": [],
   "source": [
    "import matplotlib.pyplot as plt\n",
    "from azureml.core import Dataset\n",
    "from azureml.data.dataset_factory import DataType\n",
    "from azureml.data.dataset_factory import TabularDatasetFactory\n",
    "from cleandata import clean_data\n",
    "from sklearn.model_selection import train_test_split\n",
    "from imblearn.over_sampling import SMOTE\n",
    "from azureml.core import Workspace, Experiment\n",
    "\n",
    "ws = Workspace.get(name=\"quick-starts-ws-122643\")"
   ]
  },
  {
   "cell_type": "code",
   "execution_count": null,
   "metadata": {},
   "outputs": [],
   "source": [
    "ds = TabularDatasetFactory.from_delimited_files(\"https://automlsamplenotebookdata.blob.core.windows.net/automl-sample-notebook-data/bankmarketing_train.csv\", validate=True, include_path=False, infer_column_types=True, set_column_types=None, separator=',', header=True, partition_format=None, support_multi_line=False, empty_as_string=False)\n",
    "x, y = clean_data(ds)\n",
    "x_train, x_test, y_train, y_test = train_test_split(x, y, test_size=0.33, random_state=42);"
   ]
  },
  {
   "cell_type": "code",
   "execution_count": null,
   "metadata": {},
   "outputs": [],
   "source": [
    "data_train = x\n",
    "data_train['y'] = y\n",
    "feature_names = list(data_train.columns)"
   ]
  },
  {
   "cell_type": "code",
   "execution_count": null,
   "metadata": {},
   "outputs": [],
   "source": [
    "plt.bar(['No', 'Yes'], data_train.y.value_counts().values, facecolor = 'lawngreen', edgecolor='lightseagreen', linewidth=0.5)\n",
    "plt.title('Has the client subscribed a term deposit?', fontsize=14)\n",
    "plt.xlabel('Answer')\n",
    "plt.ylabel('No.')\n",
    "plt.show()"
   ]
  },
  {
   "cell_type": "code",
   "execution_count": null,
   "metadata": {},
   "outputs": [],
   "source": [
    "smote = SMOTE(random_state=0)\n",
    "x_balanced, y_balanced = smote.fit_resample(x_train, y_train)\n",
    "\n",
    "plt.bar(['No', 'Yes'], [sum(y_balanced), len(y_balanced)-sum(y_balanced)], facecolor = 'lawngreen', edgecolor='lightseagreen', linewidth=0.5)\n",
    "plt.title('Has the client subscribed a term deposit? (Balanaced)', fontsize=14)\n",
    "plt.xlabel('Answer')\n",
    "plt.ylabel('No.')\n",
    "plt.show()"
   ]
  },
  {
   "cell_type": "code",
   "execution_count": null,
   "metadata": {},
   "outputs": [],
   "source": [
    "data_balanced = x_balanced\n",
    "data_balanced['y'] = y_balanced\n",
    "data_balanced.head()"
   ]
  },
  {
   "cell_type": "code",
   "execution_count": null,
   "metadata": {},
   "outputs": [],
   "source": [
    "data_validation = x_test\n",
    "data_validation['y'] = y_test\n",
    "data_validation.head()"
   ]
  },
  {
   "cell_type": "code",
   "execution_count": null,
   "metadata": {},
   "outputs": [],
   "source": [
    "plt.bar(['No', 'Yes'], data_validation.y.value_counts().values, facecolor = 'lawngreen', edgecolor='lightseagreen', linewidth=0.5)\n",
    "plt.title('Has the client subscribed a term deposit? (Validation)', fontsize=14)\n",
    "plt.xlabel('Answer')\n",
    "plt.ylabel('No.')\n",
    "plt.show()"
   ]
  },
  {
   "cell_type": "code",
   "execution_count": null,
   "metadata": {},
   "outputs": [],
   "source": [
    "if \"data\" not in os.listdir():\n",
    "    os.mkdir(\"./data\")\n",
    "\n",
    "local_path = './data/data_balanced.csv'\n",
    "data_train.to_csv(local_path)\n",
    "\n",
    "validation_path = './data/data_validation.csv'\n",
    "data_validation.to_csv(validation_path)\n",
    "\n",
    "datastore = ws.get_default_datastore()\n",
    "\n",
    "datastore.upload(src_dir='data', target_path='data', overwrite=True)"
   ]
  },
  {
   "cell_type": "code",
   "execution_count": null,
   "metadata": {},
   "outputs": [],
   "source": []
  }
 ],
 "metadata": {
  "kernelspec": {
   "display_name": "Python 3",
   "language": "python",
   "name": "python3"
  },
  "language_info": {
   "codemirror_mode": {
    "name": "ipython",
    "version": 3
   },
   "file_extension": ".py",
   "mimetype": "text/x-python",
   "name": "python",
   "nbconvert_exporter": "python",
   "pygments_lexer": "ipython3",
   "version": "3.6.9"
  }
 },
 "nbformat": 4,
 "nbformat_minor": 4
}
